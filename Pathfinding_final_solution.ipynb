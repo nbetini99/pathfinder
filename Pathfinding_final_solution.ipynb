{
  "cells": [
    {
      "cell_type": "markdown",
      "id": "7c53ad8a",
      "metadata": {
        "id": "7c53ad8a"
      },
      "source": [
        "# 2D Pathfinding on Binary Images\n",
        "Implementation of a solution for the take-home Python interview problem:\n",
        "- Determine whether a path exists between two points over black pixels.\n",
        "- Visualize a path if it exists.\n",
        "- Find two disjoint paths given two start-end pairs."
      ]
    },
    {
      "cell_type": "code",
      "execution_count": null,
      "id": "e405c936",
      "metadata": {
        "id": "e405c936"
      },
      "outputs": [],
      "source": [
        "#Some needed libraries\n",
        "import numpy as np\n",
        "from collections import deque\n",
        "from PIL import Image\n",
        "import matplotlib.pyplot as plt\n"
      ]
    },
    {
      "cell_type": "code",
      "source": [
        "# This block of code imports the .png files from github\n",
        "# The files will be stored in /content/ directory of the google colab\n",
        "import os\n",
        "import requests\n",
        "\n",
        "def download_file(url, filename):\n",
        "    response = requests.get(url, stream=True)\n",
        "    response.raise_for_status()  # Raise an exception for bad status codes\n",
        "    with open(filename, 'wb') as f:\n",
        "        for chunk in response.iter_content(chunk_size=8192):\n",
        "            f.write(chunk)\n",
        "    print(f\"Downloaded {filename}\")\n",
        "\n",
        "# Define the base URL and filenames\n",
        "# Corrected base URL based on the user's repository reference\n",
        "base_url = \"https://raw.githubusercontent.com/mcollinswisc/2D_paths/4cc8b973bfea1bc7906b29d6dbb11845028f1dc7/\"\n",
        "files_to_download = [\"small-ring.png\", \"polygons.png\", \"bars.png\"]\n",
        "\n",
        "# Download the files\n",
        "for filename in files_to_download:\n",
        "    url = base_url + filename\n",
        "    download_file(url, filename)"
      ],
      "metadata": {
        "colab": {
          "base_uri": "https://localhost:8080/"
        },
        "id": "V1JMOV4XBACe",
        "outputId": "ab0ad142-9e3f-4e3d-a685-c80cd6696772"
      },
      "execution_count": null,
      "outputs": [
        {
          "output_type": "stream",
          "name": "stdout",
          "text": [
            "Downloaded small-ring.png\n",
            "Downloaded polygons.png\n",
            "Downloaded bars.png\n"
          ]
        }
      ],
      "id": "V1JMOV4XBACe"
    },
    {
      "cell_type": "code",
      "execution_count": null,
      "id": "68fdc9ba",
      "metadata": {
        "id": "68fdc9ba"
      },
      "outputs": [],
      "source": [
        "# This block of code defines the pixel information for the given image.\n",
        "# Binary image representation where black pixels are 1 and white pixels are 0, # This representation is suitable for pathfinding algorithms\n",
        "#that operate on traversable (black) and non-traversable (white) areas.\\\n",
        "\n",
        "def load_binary_image(path):\n",
        "    img = Image.open(path).convert(\"L\") # To convert the image file to gray scale using 'L'\n",
        "    img_array = np.array(img)\n",
        "    return (img_array < 128).astype(np.uint8)  # black=1, white=0\n"
      ]
    },
    {
      "cell_type": "code",
      "execution_count": null,
      "id": "5e004ea3",
      "metadata": {
        "id": "5e004ea3"
      },
      "outputs": [],
      "source": [
        "'''This code block defines the bfs_path function, which implements the Breadth-First Search (BFS) algorithm to find a path between a start and end point in a 2D grid represented by the universe numpy array.\n",
        "'''\n",
        "\n",
        "''' This code block starts with start point and traverses the grid in a 4-connected manner representing 4 directions uo, down, left and right)\n",
        "'''\n",
        "\n",
        "''' I used a deque to start the queue and update it as the path traverses across the image'''\n",
        "\n",
        "\n",
        "def bfs_path(universe, start, end):\n",
        "    h, w = universe.shape\n",
        "    visited = np.zeros_like(universe, dtype=bool)\n",
        "    parent = {}\n",
        "\n",
        "    queue = deque([start])\n",
        "    visited[start] = True\n",
        "\n",
        "    dirs = [(-1,0), (1,0), (0,-1), (0,1)]  # 4-connected\n",
        "\n",
        "    while queue:\n",
        "        curr = queue.popleft()\n",
        "        if curr == end:\n",
        "            path = [curr]\n",
        "            while curr in parent:\n",
        "                curr = parent[curr]\n",
        "                path.append(curr)\n",
        "            return path[::-1]\n",
        "        for d in dirs:\n",
        "            ny, nx = curr[0] + d[0], curr[1] + d[1]\n",
        "            if 0 <= ny < h and 0 <= nx < w:\n",
        "                if not visited[ny, nx] and universe[ny, nx] == 1:\n",
        "                    visited[ny, nx] = True\n",
        "                    parent[(ny, nx)] = curr\n",
        "                    queue.append((ny, nx))\n",
        "    return None\n"
      ]
    },
    {
      "cell_type": "code",
      "execution_count": 1,
      "id": "cf6918de",
      "metadata": {
        "id": "cf6918de"
      },
      "outputs": [],
      "source": [
        "'''\n",
        "This code block defines the find_two_disjoint_paths function, which attempts to find two paths between two different start and end point pairs (start1(s1) to end1(e1) and start2(s2) to end2(e2)) in a given universe (binary image), such that the two paths do not share any common pixels.\n",
        "'''\n",
        "\n",
        "def draw_path(universe, path, out_path='output.png'):\n",
        "    img = np.stack([universe*255]*3, axis=-1).astype(np.uint8)\n",
        "    for y, x in path:\n",
        "        img[y, x] = [255, 0, 0]  # red path\n",
        "    Image.fromarray(img).save(out_path)\n",
        "    plt.imshow(img)\n",
        "    plt.title(\"Path Visualization\")\n",
        "    plt.axis(\"off\")\n",
        "    plt.show()\n",
        "\n",
        "\n",
        "def find_two_disjoint_paths(universe, s1, e1, s2, e2):\n",
        "    path1 = bfs_path(universe, s1, e1)\n",
        "    if path1 is None:\n",
        "        return None, None\n",
        "    temp_universe = universe.copy()\n",
        "    for y, x in path1:\n",
        "        temp_universe[y, x] = 0  # block path1 for path2\n",
        "    path2 = bfs_path(temp_universe, s2, e2)\n",
        "    return path1, path2"
      ]
    },
    {
      "cell_type": "code",
      "execution_count": null,
      "id": "59aad9e9",
      "metadata": {
        "colab": {
          "base_uri": "https://localhost:8080/",
          "height": 497
        },
        "id": "59aad9e9",
        "outputId": "f3459495-1612-44e9-a0be-aa37bf660226"
      },
      "outputs": [
        {
          "output_type": "stream",
          "name": "stdout",
          "text": [
            "Checking for paths in small-ring.png:\n",
            "No path found between (1, 1) and (3, 3).\n",
            "No path found between (1, 1) and (1, 3).\n",
            "Path exists between (3, 3) and (4, 4)!\n"
          ]
        },
        {
          "output_type": "display_data",
          "data": {
            "text/plain": [
              "<Figure size 640x480 with 1 Axes>"
            ],
            "image/png": "[encoded data removed]"
          },
          "metadata": {}
        }
      ],
      "source": [
        "Created using Colab. This will find paths between any two points if there exists a path to traverse. Also find two paths for any given pairs of points if there is a path exists without intersecting each other. This used BFS(Breadth First Search) algorithm.# Example using 'small-ring.png' image\n",
        "# For testing different end points, one hass to change the start and end coordinates\n",
        "\n",
        "img = load_binary_image(\"/content/small-ring.png\")\n",
        "\n",
        "# Define a list of start and end point pairs\n",
        "points_to_check = [\n",
        "    ((1, 1), (3, 3)),\n",
        "    ((1, 1), (1, 3)), # Added a valid path\n",
        "    ((3, 3), (4, 4)) # Added another valid path\n",
        "]\n",
        "\n",
        "print(\"Checking for paths in small-ring.png:\")\n",
        "for start, end in points_to_check:\n",
        "    path = bfs_path(img, start, end)\n",
        "    if path:\n",
        "        print(f\"Path exists between {start} and {end}!\")\n",
        "        draw_path(img, path, f\"path_{start[0]}_{start[1]}_to_{end[0]}_{end[1]}.png\")\n",
        "    else:\n",
        "        print(f\"No path found between {start} and {end}.\")"
      ]
    },
    {
      "cell_type": "code",
      "source": [
        "# Example using 'bars.png' image\n",
        "img = load_binary_image(\"/content/bars.png\")\n",
        "\n",
        "# Define a list of start and end point pairs for bars.png\n",
        "points_to_check_bars = [\n",
        "    ((1, 1), (3, 3)), # Expected: No path\n",
        "    ((1, 1), (1, 10)), # Expected: Path\n",
        "    ((5, 5), (5, 15)) # Expected: Path\n",
        "]\n",
        "\n",
        "print(\"Checking for paths in bars.png:\")\n",
        "for start, end in points_to_check_bars:\n",
        "    path = bfs_path(img, start, end)\n",
        "    if path:\n",
        "        print(f\"Path exists between {start} and {end}!\")\n",
        "        draw_path(img, path, f\"path_bars_{start[0]}_{start[1]}_to_{end[0]}_{end[1]}.png\")\n",
        "    else:\n",
        "        print(f\"No path found between {start} and {end}.\")"
      ],
      "metadata": {
        "colab": {
          "base_uri": "https://localhost:8080/",
          "height": 497
        },
        "id": "-ggnhfRBUNiW",
        "outputId": "d955b61f-3438-432a-f27e-503de37935ff"
      },
      "id": "-ggnhfRBUNiW",
      "execution_count": null,
      "outputs": [
        {
          "output_type": "stream",
          "name": "stdout",
          "text": [
            "Checking for paths in bars.png:\n",
            "No path found between (1, 1) and (3, 3).\n",
            "Path exists between (1, 1) and (1, 10)!\n"
          ]
        },
        {
          "output_type": "display_data",
          "data": {
            "text/plain": [
              "<Figure size 640x480 with 1 Axes>"
            ],
            "image/png": "[encoded data removed]"
          },
          "metadata": {}
        },
        {
          "output_type": "stream",
          "name": "stdout",
          "text": [
            "No path found between (5, 5) and (5, 15).\n"
          ]
        }
      ]
    },
    {
      "cell_type": "code",
      "source": [
        "# Example using 'polygons.png' image\n",
        "img = load_binary_image(\"/content/polygons.png\")\n",
        "\n",
        "# Define a list of start and end point pairs for polygons.png\n",
        "points_to_check_polygons = [\n",
        "    ((1, 1), (3, 3)),  # Example: Path exists\n",
        "    ((5, 5), (50, 50)), # Example: Path exists\n",
        "    ((10, 10), (80, 80)) # Example: Path exists\n",
        "]\n",
        "\n",
        "print(\"Checking for paths in polygons.png:\")\n",
        "for start, end in points_to_check_polygons:\n",
        "    path = bfs_path(img, start, end)\n",
        "    if path:\n",
        "        print(f\"Path exists between {start} and {end}!\")\n",
        "        draw_path(img, path, f\"path_polygons_{start[0]}_{start[1]}_to_{end[0]}_{end[1]}.png\")\n",
        "    else:\n",
        "        print(f\"No path found between {start} and {end}.\")"
      ],
      "metadata": {
        "colab": {
          "base_uri": "https://localhost:8080/",
          "height": 1000
        },
        "id": "w6aMud85UQsv",
        "outputId": "8e357577-066e-48d7-d7ed-4121997ebcaa"
      },
      "id": "w6aMud85UQsv",
      "execution_count": null,
      "outputs": [
        {
          "output_type": "stream",
          "name": "stdout",
          "text": [
            "Checking for paths in polygons.png:\n",
            "Path exists between (1, 1) and (3, 3)!\n"
          ]
        },
        {
          "output_type": "display_data",
          "data": {
            "text/plain": [
              "<Figure size 640x480 with 1 Axes>"
            ],
            "image/png": "[encoded data removed]"
          },
          "metadata": {}
        },
        {
          "output_type": "stream",
          "name": "stdout",
          "text": [
            "Path exists between (5, 5) and (50, 50)!\n"
          ]
        },
        {
          "output_type": "display_data",
          "data": {
            "text/plain": [
              "<Figure size 640x480 with 1 Axes>"
            ],
            "image/png": "[encoded data removed]"
          },
          "metadata": {}
        },
        {
          "output_type": "stream",
          "name": "stdout",
          "text": [
            "Path exists between (10, 10) and (80, 80)!\n"
          ]
        },
        {
          "output_type": "display_data",
          "data": {
            "text/plain": [
              "<Figure size 640x480 with 1 Axes>"
            ],
            "image/png": "[encoded data removed]"
          },
          "metadata": {}
        }
      ]
    },
    {
      "cell_type": "code",
      "execution_count": null,
      "id": "dfc27f56",
      "metadata": {
        "colab": {
          "base_uri": "https://localhost:8080/",
          "height": 1000
        },
        "id": "dfc27f56",
        "outputId": "10b38a14-f871-4917-9067-1dfb6960e3e9"
      },
      "outputs": [
        {
          "output_type": "stream",
          "name": "stdout",
          "text": [
            "Checking for two disjoint paths in polygons.png:\n",
            "\n",
            "Checking disjoint paths for: ((10, 10) to (10, 45)) and ((10, 46) to (70, 55))\n",
            "Both disjoint paths found!\n"
          ]
        },
        {
          "output_type": "display_data",
          "data": {
            "text/plain": [
              "<Figure size 640x480 with 1 Axes>"
            ],
            "image/png": "[encoded data removed]"
          },
          "metadata": {}
        },
        {
          "output_type": "display_data",
          "data": {
            "text/plain": [
              "<Figure size 640x480 with 1 Axes>"
            ],
            "image/png": "[encoded data removed]"
          },
          "metadata": {}
        },
        {
          "output_type": "stream",
          "name": "stdout",
          "text": [
            "\n",
            "Checking disjoint paths for: ((1, 1) to (50, 50)) and ((5, 5) to (60, 60))\n",
            "Could not find two disjoint paths.\n",
            "\n",
            "Checking disjoint paths for: ((1, 1) to (3, 3)) and ((90, 90) to (95, 95))\n",
            "Both disjoint paths found!\n"
          ]
        },
        {
          "output_type": "display_data",
          "data": {
            "text/plain": [
              "<Figure size 640x480 with 1 Axes>"
            ],
            "image/png": "[encoded data removed]"
          },
          "metadata": {}
        },
        {
          "output_type": "display_data",
          "data": {
            "text/plain": [
              "<Figure size 640x480 with 1 Axes>"
            ],
            "image/png": "[encoded data removed]"
          },
          "metadata": {}
        }
      ],
      "source": [
        "# Two disjoint path example\n",
        "img = load_binary_image(\"/content/polygons.png\")\n",
        "\n",
        "# Define a list of sets of start and end points to check for disjoint paths\n",
        "disjoint_points_to_check = [\n",
        "    # Case 1: Disjoint paths expected\n",
        "    ((10, 10), (10, 45), (10, 46), (70, 55)),\n",
        "    # Case 2: No disjoint paths expected (paths will likely overlap)\n",
        "    ((1, 1), (50, 50), (5, 5), (60, 60)),\n",
        "    # Case 3: One or both individual paths might not exist\n",
        "    ((1, 1), (3, 3), (90, 90), (95, 95))\n",
        "]\n",
        "\n",
        "print(\"Checking for two disjoint paths in polygons.png:\")\n",
        "for s1, e1, s2, e2 in disjoint_points_to_check:\n",
        "    print(f\"\\nChecking disjoint paths for: ({s1} to {e1}) and ({s2} to {e2})\")\n",
        "    p1, p2 = find_two_disjoint_paths(img, s1, e1, s2, e2)\n",
        "\n",
        "    if p1 and p2:\n",
        "        print(\"Both disjoint paths found!\")\n",
        "        draw_path(img, p1, f\"path1_{s1[0]}_{s1[1]}_{e1[0]}_{e1[1]}.png\")\n",
        "        draw_path(img, p2, f\"path2_{s2[0]}_{s2[1]}_{e2[0]}_{e2[1]}.png\")\n",
        "    else:\n",
        "        print(\"Could not find two disjoint paths.\")"
      ]
    }
  ],
  "metadata": {
    "colab": {
      "provenance": []
    },
    "language_info": {
      "name": "python"
    },
    "kernelspec": {
      "name": "python3",
      "display_name": "Python 3"
    }
  },
  "nbformat": 4,
  "nbformat_minor": 5
}